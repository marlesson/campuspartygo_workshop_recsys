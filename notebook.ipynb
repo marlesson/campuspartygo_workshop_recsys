{
  "nbformat": 4,
  "nbformat_minor": 0,
  "metadata": {
    "celltoolbar": "Slideshow",
    "kernelspec": {
      "display_name": "Python 3",
      "language": "python",
      "name": "python3"
    },
    "language_info": {
      "codemirror_mode": {
        "name": "ipython",
        "version": 3
      },
      "file_extension": ".py",
      "mimetype": "text/x-python",
      "name": "python",
      "nbconvert_exporter": "python",
      "pygments_lexer": "ipython3",
      "version": "3.7.3"
    },
    "toc": {
      "base_numbering": 1,
      "nav_menu": {},
      "number_sections": true,
      "sideBar": true,
      "skip_h1_title": false,
      "title_cell": "Table of Contents",
      "title_sidebar": "Contents",
      "toc_cell": false,
      "toc_position": {},
      "toc_section_display": true,
      "toc_window_display": false
    },
    "colab": {
      "name": "Notebook - CampusParty - Recomendacao.ipynb",
      "version": "0.3.2",
      "provenance": [],
      "collapsed_sections": []
    }
  },
  "cells": [
    {
      "cell_type": "markdown",
      "metadata": {
        "id": "yrefP69i_1gd",
        "colab_type": "text"
      },
      "source": [
        "# Construindo um Sistema de Recomendação do zero\n",
        "Slides: https://bit.ly/2lIFyIn\n",
        "\n",
        "Teoria e prática na construção de sistemas de recomendação escaláveis utilizando tecnologias de Big Data e Machine Learning. O Workshop visa o passo a passo desde a teoría por trás de RecSys, algoritmos utilizados, ferramentas e como recomendar conteúdo relevante.\n"
      ]
    },
    {
      "cell_type": "markdown",
      "metadata": {
        "id": "t2qZmHMmrUPR",
        "colab_type": "text"
      },
      "source": [
        "![slide1](https://storage.googleapis.com/ms_geral/workshop_recomendacao_campus/CampusParty%20-%20Sistemas%20de%20Recomenda%C3%A7%C3%A3o%20-%20Workshop-01.jpg)\n"
      ]
    },
    {
      "cell_type": "markdown",
      "metadata": {
        "id": "uK1CP5FqFdyY",
        "colab_type": "text"
      },
      "source": [
        "![slide1](https://storage.googleapis.com/ms_geral/workshop_recomendacao_campus/CampusParty%20-%20Sistemas%20de%20Recomenda%C3%A7%C3%A3o%20-%20Workshop-04.jpg?1=1)\n"
      ]
    },
    {
      "cell_type": "markdown",
      "metadata": {
        "id": "tDHMG2AjV5-2",
        "colab_type": "text"
      },
      "source": [
        "![slide1](https://storage.googleapis.com/ms_geral/workshop_recomendacao_campus/CampusParty%20-%20Sistemas%20de%20Recomenda%C3%A7%C3%A3o%20-%20Workshop-02.jpg)"
      ]
    },
    {
      "cell_type": "markdown",
      "metadata": {
        "id": "wKCrfOx2sfGY",
        "colab_type": "text"
      },
      "source": [
        "![slide1](https://storage.googleapis.com/ms_geral/workshop_recomendacao_campus/CampusParty%20-%20Sistemas%20de%20Recomenda%C3%A7%C3%A3o%20-%20Workshop-03.jpg?a=1)"
      ]
    },
    {
      "cell_type": "markdown",
      "metadata": {
        "id": "kWOCA6Y5sfJo",
        "colab_type": "text"
      },
      "source": [
        "![slide1](https://storage.googleapis.com/ms_geral/workshop_recomendacao_campus/CampusParty%20-%20Sistemas%20de%20Recomenda%C3%A7%C3%A3o%20-%20Workshop-05.jpg)"
      ]
    },
    {
      "cell_type": "markdown",
      "metadata": {
        "id": "2j2jNWPSsfM9",
        "colab_type": "text"
      },
      "source": [
        "![slide1](https://storage.googleapis.com/ms_geral/workshop_recomendacao_campus/CampusParty%20-%20Sistemas%20de%20Recomenda%C3%A7%C3%A3o%20-%20Workshop-06.jpg)"
      ]
    },
    {
      "cell_type": "markdown",
      "metadata": {
        "id": "ij6zH0LJsfSd",
        "colab_type": "text"
      },
      "source": [
        "![slide1](https://storage.googleapis.com/ms_geral/workshop_recomendacao_campus/CampusParty%20-%20Sistemas%20de%20Recomenda%C3%A7%C3%A3o%20-%20Workshop-07.jpg)"
      ]
    },
    {
      "cell_type": "markdown",
      "metadata": {
        "id": "v_5QpgSpsfVP",
        "colab_type": "text"
      },
      "source": [
        "![slide1](https://storage.googleapis.com/ms_geral/workshop_recomendacao_campus/CampusParty%20-%20Sistemas%20de%20Recomenda%C3%A7%C3%A3o%20-%20Workshop-08.jpg)"
      ]
    },
    {
      "cell_type": "markdown",
      "metadata": {
        "id": "ajzWKyQIswUb",
        "colab_type": "text"
      },
      "source": [
        "![slide1](https://storage.googleapis.com/ms_geral/workshop_recomendacao_campus/CampusParty%20-%20Sistemas%20de%20Recomenda%C3%A7%C3%A3o%20-%20Workshop-09.jpg)"
      ]
    },
    {
      "cell_type": "markdown",
      "metadata": {
        "id": "p79LbEebswQP",
        "colab_type": "text"
      },
      "source": [
        "![slide1](https://storage.googleapis.com/ms_geral/workshop_recomendacao_campus/CampusParty%20-%20Sistemas%20de%20Recomenda%C3%A7%C3%A3o%20-%20Workshop-10.jpg)"
      ]
    },
    {
      "cell_type": "markdown",
      "metadata": {
        "id": "vRgm6tPsswMn",
        "colab_type": "text"
      },
      "source": [
        "![slide1](https://storage.googleapis.com/ms_geral/workshop_recomendacao_campus/CampusParty%20-%20Sistemas%20de%20Recomenda%C3%A7%C3%A3o%20-%20Workshop-11.jpg)"
      ]
    },
    {
      "cell_type": "markdown",
      "metadata": {
        "id": "EAL8WxTWF-_m",
        "colab_type": "text"
      },
      "source": [
        "## Collaborative Filtering"
      ]
    },
    {
      "cell_type": "markdown",
      "metadata": {
        "id": "0DgdUNLkswIp",
        "colab_type": "text"
      },
      "source": [
        "![slide1](https://storage.googleapis.com/ms_geral/workshop_recomendacao_campus/CampusParty%20-%20Sistemas%20de%20Recomenda%C3%A7%C3%A3o%20-%20Workshop-12.jpg)"
      ]
    },
    {
      "cell_type": "markdown",
      "metadata": {
        "id": "F-yoYph3swE4",
        "colab_type": "text"
      },
      "source": [
        "![slide1](https://storage.googleapis.com/ms_geral/workshop_recomendacao_campus/CampusParty%20-%20Sistemas%20de%20Recomenda%C3%A7%C3%A3o%20-%20Workshop-13.jpg)"
      ]
    },
    {
      "cell_type": "code",
      "metadata": {
        "id": "e4YK4k79tzuC",
        "colab_type": "code",
        "colab": {}
      },
      "source": [
        "# Dados históricos de interação do USUARIO com o ITEM contendo o Rating (Nota como preferência explicita)\n",
        "#\n",
        "#\n",
        "import pandas as pd\n",
        "pd.options.display.precision = 3\n",
        "\n",
        "\n",
        "hist = pd.DataFrame([\n",
        "         (\"Judite\", \"Melancia\", 7),\n",
        "         (\"Judite\", \"Pizza\", 10),\n",
        "         (\"Moises\", \"Pizza\", 8),\n",
        "         (\"Moises\", \"Hamburguer\", 9),\n",
        "         (\"Moises\", \"Melancia\", 6),\n",
        "         (\"Rafael\", \"Pizza\", 1),\n",
        "         (\"Rafael\", \"Hamburguer\", 3),\n",
        "         (\"Rafael\", \"Melancia\", 10),\n",
        "      ], columns=[\"Usuario\", \"Item\", \"Nota\"])\n",
        "\n",
        "hist"
      ],
      "execution_count": 0,
      "outputs": []
    },
    {
      "cell_type": "code",
      "metadata": {
        "id": "YxGjiIEOutoy",
        "colab_type": "code",
        "colab": {}
      },
      "source": [
        "# Matriz de Interação USUARIO X ITEM\n",
        "#\n",
        "# A Matriz de interação contem todas as interações dos usuários (linhas) com os itens (colunas)\n",
        "# em que o valor é o rating dado pelo USUARIO ao ITEM \n",
        "#\n",
        "cf = hist.pivot(index='Usuario', columns='Item', values='Nota')\n",
        "cf = cf[['Pizza', 'Hamburguer', 'Melancia']]\n",
        "cf"
      ],
      "execution_count": 0,
      "outputs": []
    },
    {
      "cell_type": "markdown",
      "metadata": {
        "id": "9zWgRW1qvy_J",
        "colab_type": "text"
      },
      "source": [
        "![slide1](https://storage.googleapis.com/ms_geral/workshop_recomendacao_campus/CampusParty%20-%20Sistemas%20de%20Recomenda%C3%A7%C3%A3o%20-%20Workshop-14.jpg)"
      ]
    },
    {
      "cell_type": "code",
      "metadata": {
        "id": "HmkgDmICwSqY",
        "colab_type": "code",
        "colab": {}
      },
      "source": [
        "# https://scikit-learn.org/stable/modules/generated/sklearn.metrics.pairwise_distances.html\n",
        "from sklearn.metrics.pairwise import pairwise_distances\n",
        "\n",
        "# Vetor 1\n",
        "v1 = [[10, 0, 7]] \n",
        "\n",
        "# Vetor 2\n",
        "v2 = [[8,  9, 6]]\n",
        "\n",
        "print(\"\\nEuclidean:\\n\",    pairwise_distances(v1, v2, metric='euclidean'))\n",
        "print(\"\\nCosine:\\n\",       pairwise_distances(v1, v2, metric='cosine'))\n",
        "print(\"\\nCorrelation:\\n\",  pairwise_distances(v1, v2, metric='correlation'))"
      ],
      "execution_count": 0,
      "outputs": []
    },
    {
      "cell_type": "markdown",
      "metadata": {
        "id": "fV0wHjTa34jy",
        "colab_type": "text"
      },
      "source": [
        "### Distância Euclidiana"
      ]
    },
    {
      "cell_type": "code",
      "metadata": {
        "id": "1kQMqp72wSg2",
        "colab_type": "code",
        "colab": {}
      },
      "source": [
        "# Distância Euclidiana da Matriz de Interação\n",
        "#\n",
        "#\n",
        "\n",
        "d_cf = pairwise_distances(cf.fillna(cf.mean()), metric='euclidean')\n",
        "d_cf = pd.DataFrame(d_cf, columns = cf.index, index=cf.index)\n",
        "d_cf"
      ],
      "execution_count": 0,
      "outputs": []
    },
    {
      "cell_type": "markdown",
      "metadata": {
        "id": "-hwTGozD4AzA",
        "colab_type": "text"
      },
      "source": [
        "### Distância do Coseno Inversa (Similaridade)"
      ]
    },
    {
      "cell_type": "code",
      "metadata": {
        "id": "9zNyRtRJ4BQP",
        "colab_type": "code",
        "colab": {}
      },
      "source": [
        "# Similaridade do Coseno da Matriz de Interação\n",
        "#\n",
        "#\n",
        "\n",
        "d_cf = 1 - pairwise_distances(cf.fillna(cf.mean()), metric='cosine')\n",
        "d_cf = pd.DataFrame(d_cf, columns = cf.index, index=cf.index)\n",
        "d_cf"
      ],
      "execution_count": 0,
      "outputs": []
    },
    {
      "cell_type": "markdown",
      "metadata": {
        "id": "DsSDk9jUFKCm",
        "colab_type": "text"
      },
      "source": [
        "![slide1](https://storage.googleapis.com/ms_geral/workshop_recomendacao_campus/CampusParty%20-%20Sistemas%20de%20Recomenda%C3%A7%C3%A3o%20-%20Workshop-15.jpg)"
      ]
    },
    {
      "cell_type": "markdown",
      "metadata": {
        "id": "io7atznCF5jh",
        "colab_type": "text"
      },
      "source": [
        "## Content Based"
      ]
    },
    {
      "cell_type": "markdown",
      "metadata": {
        "id": "M7i83UZIIu62",
        "colab_type": "text"
      },
      "source": [
        "![slide1](https://storage.googleapis.com/ms_geral/workshop_recomendacao_campus/CampusParty%20-%20Sistemas%20de%20Recomenda%C3%A7%C3%A3o%20-%20Workshop-16.jpg)"
      ]
    },
    {
      "cell_type": "markdown",
      "metadata": {
        "id": "eC3wlR6HIxGn",
        "colab_type": "text"
      },
      "source": [
        "![slide1](https://storage.googleapis.com/ms_geral/workshop_recomendacao_campus/CampusParty%20-%20Sistemas%20de%20Recomenda%C3%A7%C3%A3o%20-%20Workshop-17.jpg)"
      ]
    },
    {
      "cell_type": "code",
      "metadata": {
        "id": "sGo1TXWSwSXZ",
        "colab_type": "code",
        "colab": {}
      },
      "source": [
        "# Dados de características (features) dos ITEMS\n",
        "#\n",
        "#\n",
        "\n",
        "itens = pd.DataFrame([\n",
        "         (\"Pizza\",      True, True, False, False),\n",
        "         (\"Hamburguer\", True, True, False, False),\n",
        "         (\"Melancia\",   False, False, True, True),\n",
        "      ], columns=[\"Item\", \"Junk Food\", \"Tem Queijo\", \"Doce\", \"Natural\"]).set_index('Item')\n",
        "\n",
        "itens"
      ],
      "execution_count": 0,
      "outputs": []
    },
    {
      "cell_type": "code",
      "metadata": {
        "id": "CYPg79exPfwb",
        "colab_type": "code",
        "colab": {}
      },
      "source": [
        "itens.loc[['Pizza']]"
      ],
      "execution_count": 0,
      "outputs": []
    },
    {
      "cell_type": "code",
      "metadata": {
        "id": "6I5O2CiIuti7",
        "colab_type": "code",
        "colab": {}
      },
      "source": [
        "# Similaridade do Coseno da Matriz de Itens\n",
        "#\n",
        "#\n",
        "import numpy as np\n",
        "\n",
        "sim = 1 - pairwise_distances(itens.loc[['Pizza']], itens.loc[['Hamburguer']], metric='cosine')\n",
        "print(\"Similaridade:\", sim.reshape(-1)[0])\n",
        "\n",
        "#pairwise_distances(itens.loc[['Pizza']], itens.loc[['Melancia']], metric='cosine')"
      ],
      "execution_count": 0,
      "outputs": []
    },
    {
      "cell_type": "markdown",
      "metadata": {
        "id": "s9cxF_IXPZzH",
        "colab_type": "text"
      },
      "source": [
        "![slide1](https://storage.googleapis.com/ms_geral/workshop_recomendacao_campus/CampusParty%20-%20Sistemas%20de%20Recomenda%C3%A7%C3%A3o%20-%20Workshop-18.jpg)"
      ]
    },
    {
      "cell_type": "markdown",
      "metadata": {
        "id": "zN0kttJ4QQRa",
        "colab_type": "text"
      },
      "source": [
        "![slide1](https://storage.googleapis.com/ms_geral/workshop_recomendacao_campus/CampusParty%20-%20Sistemas%20de%20Recomenda%C3%A7%C3%A3o%20-%20Workshop-19.jpg)"
      ]
    },
    {
      "cell_type": "code",
      "metadata": {
        "id": "IXcBxPPkQbfs",
        "colab_type": "code",
        "colab": {}
      },
      "source": [
        "# O Cold Started pode ser realizado a partir do historico geral de interações\n",
        "# Dessa forma é possível gerar listas usando algumas heurísticas\n",
        "#\n",
        "\n",
        "hist"
      ],
      "execution_count": 0,
      "outputs": []
    },
    {
      "cell_type": "code",
      "metadata": {
        "id": "tSr-EvONQdOK",
        "colab_type": "code",
        "colab": {}
      },
      "source": [
        "# A depender da estatística a lista de recomendação pdoe mudar..\n",
        "#  .count()\n",
        "#  .mean()\n",
        "#  .median()\n",
        "#\n",
        "hist.groupby(['Item'])\\\n",
        "    .count()\\\n",
        "    .sort_values('Nota', ascending=False)"
      ],
      "execution_count": 0,
      "outputs": []
    },
    {
      "cell_type": "markdown",
      "metadata": {
        "id": "dB3rWByZQQB1",
        "colab_type": "text"
      },
      "source": [
        "![slide1](https://storage.googleapis.com/ms_geral/workshop_recomendacao_campus/CampusParty%20-%20Sistemas%20de%20Recomenda%C3%A7%C3%A3o%20-%20Workshop-20.jpg)"
      ]
    },
    {
      "cell_type": "markdown",
      "metadata": {
        "id": "_oJfqcuzSRrQ",
        "colab_type": "text"
      },
      "source": [
        "![slide1](https://storage.googleapis.com/ms_geral/workshop_recomendacao_campus/CampusParty%20-%20Sistemas%20de%20Recomenda%C3%A7%C3%A3o%20-%20Workshop-21.jpg)"
      ]
    },
    {
      "cell_type": "markdown",
      "metadata": {
        "id": "EI0IYX81SRjx",
        "colab_type": "text"
      },
      "source": [
        "![slide1](https://storage.googleapis.com/ms_geral/workshop_recomendacao_campus/CampusParty%20-%20Sistemas%20de%20Recomenda%C3%A7%C3%A3o%20-%20Workshop-22.jpg)"
      ]
    },
    {
      "cell_type": "markdown",
      "metadata": {
        "id": "xSJv827iSRa1",
        "colab_type": "text"
      },
      "source": [
        "![slide1](https://storage.googleapis.com/ms_geral/workshop_recomendacao_campus/CampusParty%20-%20Sistemas%20de%20Recomenda%C3%A7%C3%A3o%20-%20Workshop-23.jpg)"
      ]
    },
    {
      "cell_type": "markdown",
      "metadata": {
        "id": "c5uzxkC9UbBk",
        "colab_type": "text"
      },
      "source": [
        "![slide1](https://storage.googleapis.com/ms_geral/workshop_recomendacao_campus/CampusParty%20-%20Sistemas%20de%20Recomenda%C3%A7%C3%A3o%20-%20Workshop-24.jpg)"
      ]
    },
    {
      "cell_type": "markdown",
      "metadata": {
        "id": "_hiXaEcuUi_e",
        "colab_type": "text"
      },
      "source": [
        "![slide1](https://storage.googleapis.com/ms_geral/workshop_recomendacao_campus/CampusParty%20-%20Sistemas%20de%20Recomenda%C3%A7%C3%A3o%20-%20Workshop-25.jpg)"
      ]
    },
    {
      "cell_type": "markdown",
      "metadata": {
        "id": "KCt0Hp3v99Bd",
        "colab_type": "text"
      },
      "source": [
        "# Recomendação de Filmes com Content-Based e Collaborative Filtering\n",
        "\n",
        "**“*Que filme devo assistir esta noite?*”**\n",
        "\n",
        "Você já teve que responder a essa pergunta pelo menos uma vez quando chegou em casa do trabalho? \n",
        "Do Netflix ao Youtube, a necessidade de construir sistemas robustos de recomendação de filmes é extremamente importante, dada a enorme demanda por conteúdo personalizado e a grande quantidade de conteúdo disponível.\n",
        "\n",
        "Um exemplo de funcionamento de RecSys:\n",
        "* O usuário A assiste **Game of Thrones** e **Breaking Bad**.\n",
        "* O usuário B pesquisa em **Game of Thrones** e, em seguida, o sistema sugere **Breaking Bad** a partir de dados coletados sobre o usuário A.\n",
        "\n",
        "Os sistemas de recomendação são utilizados não apenas para filmes, mas em vários outros produtos e serviços, como Amazon (Livros, Itens), Pandora / Spotify (Música), Google (Notícias, Pesquisa), YouTube (Vídeos) etc.\n",
        "\n",
        "![netflix](https://github.com/khanhnamle1994/movielens/raw/cb1fe40c99cdd61c3c714e501e11f699c87b0eed/images/netflix.png)\n",
        "\n",
        "\n",
        "Os dois tipos mais utilizados de sistemas de recomendação são baseados em **Conteúdo** e **Filtragem colaborativa**. A filtragem colaborativa produz recomendações com base no conhecimento da atitude dos usuários em relação aos itens, ou seja, usa a \"sabedoria da multidão\" para recomendar itens. Por outro lado, os sistemas de recomendação baseados em conteúdo concentram-se nos atributos dos itens e fornecem recomendações com base na semelhança entre eles.\n",
        "\n",
        "Neste notebook, tentaremos implementar esses dois sistemas para recomendar filmes e avaliá-los para ver qual deles apresenta melhor desempenho."
      ]
    },
    {
      "cell_type": "markdown",
      "metadata": {
        "id": "dp_3mPII99Bf",
        "colab_type": "text"
      },
      "source": [
        "**Depois do workshop, você saberá:**\n",
        "\n",
        "* Sobre o Dataset MovieLens, bastante utilizado em sistema de recomendação.\n",
        "* Como carregar e processar os dados.\n",
        "* Como fazer análise exploratória de dados.\n",
        "* Os 2 tipos diferentes de mecanismos de recomendação.\n",
        "* Como desenvolver um modelo de recomendação baseado em conteúdo com base em gêneros de filmes.\n",
        "* Como desenvolver um modelo de filtragem colaborativa com base nas classificações do usuário.\n",
        "* Abordagem alternativa para melhorar os modelos existentes."
      ]
    },
    {
      "cell_type": "markdown",
      "metadata": {
        "id": "6zM3aBVL99Bg",
        "colab_type": "text"
      },
      "source": [
        "## O Dataset MovieLens\n",
        "\n",
        "Um dos DataSets comuns disponíveis na Internet para a construção de um sistema de recomendação é o [MovieLens DataSet] (https://grouplens.org/datasets/movielens/). Esta versão do conjunto de dados com que estamos trabalhando ([1M] (https://grouplens.org/datasets/movielens/1m/)) contém 1.000.209 classificações anônimas de aproximadamente 3.900 filmes feitos por 6.040 usuários.\n",
        "\n",
        "![movielens](https://github.com/khanhnamle1994/movielens/raw/cb1fe40c99cdd61c3c714e501e11f699c87b0eed/images/movielens.jpg)"
      ]
    },
    {
      "cell_type": "markdown",
      "metadata": {
        "id": "FjLHpAPo99Bi",
        "colab_type": "text"
      },
      "source": [
        "## Preparação do Dataset\n",
        "\n",
        "Vamos carregar os dados no Python. A informações utilizadas são as interações de avaliação do usuário para o filme, os dados do usuário e os dados dos filmes.\n",
        "\n",
        "* Rating\n",
        "* Usuarios\n",
        "* Filmes "
      ]
    },
    {
      "cell_type": "code",
      "metadata": {
        "id": "VFlK5-nZ99Bk",
        "colab_type": "code",
        "colab": {}
      },
      "source": [
        "import pandas as pd\n",
        "import numpy as np\n",
        "import matplotlib.pyplot as plt\n",
        "\n",
        "# Import seaborn library\n",
        "import seaborn as sns\n",
        "%matplotlib inline\n",
        "sns.set(style=\"white\")\n",
        "sns.set(font_scale=1.5)"
      ],
      "execution_count": 0,
      "outputs": []
    },
    {
      "cell_type": "markdown",
      "metadata": {
        "heading_collapsed": true,
        "id": "TRb56jCW99Bq",
        "colab_type": "text"
      },
      "source": [
        "### Ratings Dataset"
      ]
    },
    {
      "cell_type": "code",
      "metadata": {
        "hidden": true,
        "id": "12-piHbE99Bs",
        "colab_type": "code",
        "colab": {}
      },
      "source": [
        "# Reading ratings file\n",
        "# Ignore the timestamp column\n",
        "ratings = pd.read_csv('https://storage.googleapis.com/ms_geral/workshop_recomendacao_campus/dataset/ratings.csv', \n",
        "                      sep='\\t', encoding='latin-1', \n",
        "                      usecols=['user_id', 'movie_id', 'rating'])"
      ],
      "execution_count": 0,
      "outputs": []
    },
    {
      "cell_type": "code",
      "metadata": {
        "hidden": true,
        "id": "nGMQWi3i99Bx",
        "colab_type": "code",
        "colab": {}
      },
      "source": [
        "# Check the top 5 rows\n",
        "ratings.head()"
      ],
      "execution_count": 0,
      "outputs": []
    },
    {
      "cell_type": "code",
      "metadata": {
        "hidden": true,
        "id": "-qjWl5qX99B2",
        "colab_type": "code",
        "colab": {}
      },
      "source": [
        "# Check the file info\n",
        "print(ratings.shape)"
      ],
      "execution_count": 0,
      "outputs": []
    },
    {
      "cell_type": "markdown",
      "metadata": {
        "hidden": true,
        "id": "a0_LeIL299B7",
        "colab_type": "text"
      },
      "source": [
        "Isso confirma que existem classificações de 1 milhão para diferentes combinações de usuário e filme."
      ]
    },
    {
      "cell_type": "markdown",
      "metadata": {
        "id": "R9bRKEEF99B9",
        "colab_type": "text"
      },
      "source": [
        "### Users Dataset"
      ]
    },
    {
      "cell_type": "code",
      "metadata": {
        "id": "yFpgASpA99B-",
        "colab_type": "code",
        "colab": {}
      },
      "source": [
        "# Reading users file\n",
        "users = pd.read_csv('https://storage.googleapis.com/ms_geral/workshop_recomendacao_campus/dataset/users.csv', \n",
        "                    sep='\\t', encoding='latin-1', \n",
        "                    usecols=['user_id', 'gender', 'zipcode', 'age_desc', 'occ_desc'])"
      ],
      "execution_count": 0,
      "outputs": []
    },
    {
      "cell_type": "code",
      "metadata": {
        "id": "Y_frKdYu99CD",
        "colab_type": "code",
        "colab": {}
      },
      "source": [
        "# Check the top 5 rows\n",
        "users.head()"
      ],
      "execution_count": 0,
      "outputs": []
    },
    {
      "cell_type": "code",
      "metadata": {
        "id": "704GgqQ099CH",
        "colab_type": "code",
        "colab": {}
      },
      "source": [
        "# Check the file info\n",
        "print(users.shape)"
      ],
      "execution_count": 0,
      "outputs": []
    },
    {
      "cell_type": "markdown",
      "metadata": {
        "id": "wSTsf0gT99CL",
        "colab_type": "text"
      },
      "source": [
        "Isso confirma que existem 6040 usuários e temos cinco recursos para cada um (ID de usuário exclusivo, sexo, idade, ocupação e o CEP em que eles moram)."
      ]
    },
    {
      "cell_type": "markdown",
      "metadata": {
        "id": "amI03Q-f99CN",
        "colab_type": "text"
      },
      "source": [
        "### Movies Dataset"
      ]
    },
    {
      "cell_type": "code",
      "metadata": {
        "id": "d2h0z2yl99CP",
        "colab_type": "code",
        "colab": {}
      },
      "source": [
        "# Reading movies file\n",
        "movies = pd.read_csv('https://storage.googleapis.com/ms_geral/workshop_recomendacao_campus/dataset/movies.csv', \n",
        "                     sep='\\t', encoding='latin-1', \n",
        "                     usecols=['movie_id', 'title', 'genres'])"
      ],
      "execution_count": 0,
      "outputs": []
    },
    {
      "cell_type": "markdown",
      "metadata": {
        "id": "LfaAH-n7xMsI",
        "colab_type": "text"
      },
      "source": [
        ""
      ]
    },
    {
      "cell_type": "code",
      "metadata": {
        "id": "beZ5vWeV99CT",
        "colab_type": "code",
        "colab": {}
      },
      "source": [
        "# Check the top 5 rows\n",
        "movies.head()"
      ],
      "execution_count": 0,
      "outputs": []
    },
    {
      "cell_type": "code",
      "metadata": {
        "id": "tGo5ko7399CW",
        "colab_type": "code",
        "colab": {}
      },
      "source": [
        "# Check the file info\n",
        "print(movies.shape)"
      ],
      "execution_count": 0,
      "outputs": []
    },
    {
      "cell_type": "markdown",
      "metadata": {
        "id": "zNPHHRCO99CZ",
        "colab_type": "text"
      },
      "source": [
        "Este Dataset contém atributos dos 3883 filmes. Existem 3 colunas, incluindo o ID do filme, seus títulos e gêneros. \n",
        "\n",
        "Os gêneros são separados por | e são selecionados entre 18 gêneros (Ação, Aventura, Animação, Infantil, Comédia, Crime, Documentário, Drama, Fantasia, Noir, Terror, Musical, Mistério, Romance, Ficção científica, Thriller, Guerra, Ocidental)."
      ]
    },
    {
      "cell_type": "markdown",
      "metadata": {
        "id": "1kyI_-MB99Ca",
        "colab_type": "text"
      },
      "source": [
        "## Exploração dos Dados"
      ]
    },
    {
      "cell_type": "markdown",
      "metadata": {
        "id": "6iR23B6s99Ca",
        "colab_type": "text"
      },
      "source": [
        "### Ratings\n",
        "\n",
        "Vamos dar uma olhada na distribuição dos ratings da nossa base"
      ]
    },
    {
      "cell_type": "code",
      "metadata": {
        "id": "QcSlKV8799Ce",
        "colab_type": "code",
        "colab": {}
      },
      "source": [
        "# Display distribution of rating\n",
        "sns.countplot(ratings['rating'])"
      ],
      "execution_count": 0,
      "outputs": []
    },
    {
      "cell_type": "markdown",
      "metadata": {
        "id": "JUF7wTI-99Cg",
        "colab_type": "text"
      },
      "source": [
        "Parece que os usuários são bastante generosos em suas classificações. \n",
        "A classificação média é de 3,58 em uma escala de 5. Metade dos filmes tem uma classificação de 4 e 5. \n",
        "\n",
        "Vamos também dar uma olhada em um subconjunto de 10 filmes com a classificação mais alta e mais baixa."
      ]
    },
    {
      "cell_type": "code",
      "metadata": {
        "id": "WtVdbcoF99Ch",
        "colab_type": "code",
        "colab": {}
      },
      "source": [
        "# Unifica todos os datasets\n",
        "dataset = pd.merge(pd.merge(movies, ratings),users)\n",
        "\n",
        "# Tira a média dos ratings e filtra apenas filmes com no mínimo 50 avaliações\n",
        "dataset = dataset.groupby(['title','genres'])\\\n",
        "  .agg({'rating': 'mean', 'user_id': 'count'})\\\n",
        "  .reset_index()\n",
        "\n",
        "dataset = dataset[dataset.user_id > 50]\n",
        "\n",
        "# Exibe os filmes com melhores notas\n",
        "#\n",
        "dataset[['title','genres','rating', 'user_id']]\\\n",
        "  .sort_values('rating', ascending=False)\\\n",
        "  .head(15)"
      ],
      "execution_count": 0,
      "outputs": []
    },
    {
      "cell_type": "code",
      "metadata": {
        "id": "iDsUsDid99Cl",
        "colab_type": "code",
        "colab": {}
      },
      "source": [
        "# Exibe os filmes com pior nota \n",
        "#\n",
        "dataset[['title','genres','rating']]\\\n",
        "  .sort_values('rating', ascending=True)\\\n",
        "  .head(15)"
      ],
      "execution_count": 0,
      "outputs": []
    },
    {
      "cell_type": "markdown",
      "metadata": {
        "id": "5eMoJgie99Co",
        "colab_type": "text"
      },
      "source": [
        "### Gêneros\n",
        "\n",
        "A variável gêneros certamente será importante ao criar os mecanismos de recomendação, pois descreve o conteúdo do filme (ou seja, Animação, Horror, Ficção científica). Um pressuposto básico é que filmes do mesmo gênero devem ter conteúdos semelhantes. Vamos tentar ver exatamente quais gêneros são os mais populares."
      ]
    },
    {
      "cell_type": "code",
      "metadata": {
        "id": "9jNmsD6b99Cp",
        "colab_type": "code",
        "colab": {}
      },
      "source": [
        "movies.head(3)"
      ],
      "execution_count": 0,
      "outputs": []
    },
    {
      "cell_type": "code",
      "metadata": {
        "id": "59Php-dp99Cs",
        "colab_type": "code",
        "colab": {}
      },
      "source": [
        "# Gera a lista dos gereos de cada filme\n",
        "df_genres = movies.genres.str.split(\"|\", n = 5, expand = True)\n",
        "df_genres = pd.concat([df_genres[n] for n in range(5)])\n",
        "df_genres.head()"
      ],
      "execution_count": 0,
      "outputs": []
    },
    {
      "cell_type": "code",
      "metadata": {
        "id": "m13y8gLu99Cx",
        "colab_type": "code",
        "colab": {}
      },
      "source": [
        "plt.figure(figsize=(10,5))\n",
        "chart = sns.countplot(df_genres)\n",
        "chart.set_xticklabels(chart.get_xticklabels(), rotation=45, horizontalalignment='right')\n",
        "chart"
      ],
      "execution_count": 0,
      "outputs": []
    },
    {
      "cell_type": "markdown",
      "metadata": {
        "id": "pKB0EnBi99C1",
        "colab_type": "text"
      },
      "source": [
        "## Tipos de Recomendação\n",
        "\n",
        "![rec-systems](https://github.com/khanhnamle1994/movielens/raw/cb1fe40c99cdd61c3c714e501e11f699c87b0eed/images/rec-systems.png)\n"
      ]
    },
    {
      "cell_type": "markdown",
      "metadata": {
        "id": "yvrrw3jK99C2",
        "colab_type": "text"
      },
      "source": [
        "## Modelo de Content-Based\n",
        "\n",
        "Vamos construir uma Engine de Recomendação baseado em conteúdo que calcule a semelhança entre filmes com base em gêneros de filmes. Ele sugerirá filmes que são mais parecidos com um filme específico, com base em seu gênero. Para isso, utilizarei o arquivo ** movies.csv **.\n",
        "\n"
      ]
    },
    {
      "cell_type": "code",
      "metadata": {
        "id": "5ghHOmZ4pXdg",
        "colab_type": "code",
        "colab": {}
      },
      "source": [
        "movies.head()"
      ],
      "execution_count": 0,
      "outputs": []
    },
    {
      "cell_type": "code",
      "metadata": {
        "id": "eWE4An27daLS",
        "colab_type": "code",
        "colab": {}
      },
      "source": [
        "movies.shape"
      ],
      "execution_count": 0,
      "outputs": []
    },
    {
      "cell_type": "markdown",
      "metadata": {
        "id": "imM1K090dJKe",
        "colab_type": "text"
      },
      "source": [
        "#### Vamos criar o vetor de característica do ITEM"
      ]
    },
    {
      "cell_type": "markdown",
      "metadata": {
        "id": "wf5JXq8vsFBO",
        "colab_type": "text"
      },
      "source": [
        "Para transformar a coluna em vetor de característica usarei a função **CountVectorizer** do **scikit-learn**, que transforma o texto em vetores de recursos que podem ser usados como entrada para o estimador."
      ]
    },
    {
      "cell_type": "code",
      "metadata": {
        "id": "iH_nZJ8ipXPs",
        "colab_type": "code",
        "colab": {}
      },
      "source": [
        "#https://scikit-learn.org/stable/modules/generated/sklearn.feature_extraction.text.CountVectorizer.html\n",
        "\n",
        "from sklearn.feature_extraction.text import TfidfVectorizer, CountVectorizer\n",
        "\n",
        "# 'a|b|c' -> ['a', 'b', 'c']\n",
        "#\n",
        "# \n",
        "tf = CountVectorizer()\n",
        "tf_matrix = tf.fit_transform(movies['genres']).todense()\n",
        "tf_matrix = pd.DataFrame(tf_matrix, columns = sorted(tf.vocabulary_.keys()))\n",
        "\n",
        "tf_matrix.head()"
      ],
      "execution_count": 0,
      "outputs": []
    },
    {
      "cell_type": "code",
      "metadata": {
        "id": "NsOxqKra99C3",
        "colab_type": "code",
        "colab": {}
      },
      "source": [
        "tf_matrix.shape"
      ],
      "execution_count": 0,
      "outputs": []
    },
    {
      "cell_type": "markdown",
      "metadata": {
        "id": "pxpzzCOx99C9",
        "colab_type": "text"
      },
      "source": [
        "Usarei o **[Cosine Similarity] (https://masongallo.github.io/machine/learning,/python/2016/07/29/cosine-similarity.html)** para calcular uma quantidade numérica que indica a semelhança entre dois filmes. "
      ]
    },
    {
      "cell_type": "code",
      "metadata": {
        "id": "4UmGkbUgy80L",
        "colab_type": "code",
        "colab": {}
      },
      "source": [
        "cosine_sim = 1 - pairwise_distances(tf_matrix, metric='cosine')\n",
        "cosine_sim[:4, :4]"
      ],
      "execution_count": 0,
      "outputs": []
    },
    {
      "cell_type": "code",
      "metadata": {
        "id": "6a05U_uw99C_",
        "colab_type": "code",
        "colab": {}
      },
      "source": [
        "cosine_sim.shape"
      ],
      "execution_count": 0,
      "outputs": []
    },
    {
      "cell_type": "markdown",
      "metadata": {
        "id": "DJSjmae399DC",
        "colab_type": "text"
      },
      "source": [
        "Agora eu tenho uma matriz de similaridade de cosseno pareada para todos os filmes no conjunto de dados. O próximo passo é escrever uma função que retorne os 20 filmes mais semelhantes com base na pontuação de similaridade do cosseno."
      ]
    },
    {
      "cell_type": "markdown",
      "metadata": {
        "id": "DJ7wit1weTNT",
        "colab_type": "text"
      },
      "source": [
        "![alt text](https://miro.medium.com/max/387/0*bESAibWjPtIQFRfR)"
      ]
    },
    {
      "cell_type": "code",
      "metadata": {
        "id": "uAnxyC4399DE",
        "colab_type": "code",
        "colab": {}
      },
      "source": [
        "# Build a 1-dimensional array with movie titles\n",
        "titles  = movies['title']\n",
        "indices = pd.Series(movies.index, index=movies['title'])\n",
        "  \n",
        "# Busca filme pela substring\n",
        "def search(substr):\n",
        "  return movies[movies.title.str.contains(substr)]\n",
        "\n",
        "# Function that get movie recommendations based on the cosine similarity score of movie genres\n",
        "def genre_recommendations(title):\n",
        "    idx        = indices[title]\n",
        "    sim_scores = list(enumerate(cosine_sim[idx]))\n",
        "    sim_scores = sorted(sim_scores, key=lambda x: x[1], reverse=True)\n",
        "    sim_scores = sim_scores[1:21]\n",
        "    movie_indices = [i[0] for i in sim_scores]\n",
        "    return titles.iloc[movie_indices]"
      ],
      "execution_count": 0,
      "outputs": []
    },
    {
      "cell_type": "markdown",
      "metadata": {
        "id": "FIsnTyP-99DG",
        "colab_type": "text"
      },
      "source": [
        "Vamos tentar obter as principais recomendações para alguns filmes e ver como as recomendações são boas."
      ]
    },
    {
      "cell_type": "code",
      "metadata": {
        "id": "PeGrMLWS3gbY",
        "colab_type": "code",
        "colab": {}
      },
      "source": [
        "search(\"Toy Story\")"
      ],
      "execution_count": 0,
      "outputs": []
    },
    {
      "cell_type": "code",
      "metadata": {
        "id": "JoYV4Uad2B8_",
        "colab_type": "code",
        "colab": {}
      },
      "source": [
        "genre_recommendations('Toy Story (1995)').head(10)"
      ],
      "execution_count": 0,
      "outputs": []
    },
    {
      "cell_type": "code",
      "metadata": {
        "id": "XghPBjnv2NYk",
        "colab_type": "code",
        "colab": {}
      },
      "source": [
        "genre_recommendations(\"Star Wars: Episode IV - A New Hope (1977)\").head(10)"
      ],
      "execution_count": 0,
      "outputs": []
    },
    {
      "cell_type": "markdown",
      "metadata": {
        "id": "LclGyern99DP",
        "colab_type": "text"
      },
      "source": [
        "### Conclusão \n",
        "\n",
        "Como você pode ver, eu tenho uma lista bastante decente de recomendações para **Toy Story** e **Star Wars**.\n",
        "\n",
        "No geral, aqui estão os pós do uso da recomendação baseada em conteúdo:\n",
        "\n",
        "* Não há necessidade de dados sobre outros usuários, portanto, não há problemas de Cold Start e de escarsidade.\n",
        "* Pode recomendar a usuários com gostos únicos.\n",
        "* Pode recomendar itens novos e impopulares.\n",
        "* Pode fornecer explicações para os itens recomendados, listando os recursos de conteúdo que fizeram com que um item fosse recomendado (nesse caso, gêneros de filmes)\n",
        "\n",
        "No entanto, existem alguns contras de usar essa abordagem:\n",
        "* Encontrar as características apropriadas é difícil.\n",
        "* Não recomenda itens fora do perfil de conteúdo de um usuário.\n",
        "* Incapaz de explorar julgamentos de qualidade de outros usuários."
      ]
    },
    {
      "cell_type": "markdown",
      "metadata": {
        "id": "K2HWfKnk99DQ",
        "colab_type": "text"
      },
      "source": [
        "## Modelo de Filtragem Colaborativa\n",
        "\n",
        "Nesta seção, usaremos a Filtragem colaborativa baseada em memória para fazer recomendações aos usuários de filmes. A técnica baseia-se na ideia de que usuários semelhantes a mim podem ser usados para prever o quanto eu gostarei de um produto ou serviço específico que esses usuários usaram / experimentaram, mas eu não.\n",
        "\n",
        "\n",
        "### Implementação\n",
        "\n",
        "Usaremos o arquivo **ratings.csv** primeiro, pois ele contém ID do usuário, ID do filme e classificações. Esses três elementos são tudo o que preciso para determinar a semelhança dos usuários com base em suas classificações para um filme em particular.\n",
        "\n",
        "Primeiro, faço um rápido processamento de dados:"
      ]
    },
    {
      "cell_type": "code",
      "metadata": {
        "id": "0ZRIjnHd64C0",
        "colab_type": "code",
        "colab": {}
      },
      "source": [
        "ratings.head()"
      ],
      "execution_count": 0,
      "outputs": []
    },
    {
      "cell_type": "code",
      "metadata": {
        "id": "r3SIqI_n99DR",
        "colab_type": "code",
        "colab": {}
      },
      "source": [
        ""
      ],
      "execution_count": 0,
      "outputs": []
    },
    {
      "cell_type": "markdown",
      "metadata": {
        "id": "TF6-MgxK99DV",
        "colab_type": "text"
      },
      "source": [
        "Devido ao poder de computação limitado, construiremos o sistema de recomendação usando apenas um subconjunto das classificações. Em particular, tirarei uma amostra aleatória de 20.000 classificações (2%) das classificações da 1M."
      ]
    },
    {
      "cell_type": "code",
      "metadata": {
        "id": "a-OMHLAi99DV",
        "colab_type": "code",
        "colab": {}
      },
      "source": [
        "# Randomly sample 1% of the ratings dataset\n",
        "#ratings = ratings#.sample(frac=0.02)\n",
        "# Check the sample info\n",
        "print(ratings.shape)"
      ],
      "execution_count": 0,
      "outputs": []
    },
    {
      "cell_type": "markdown",
      "metadata": {
        "id": "ciF-VF-q9eoA",
        "colab_type": "text"
      },
      "source": [
        "### Matriz de Interação USUARIO X ITEM"
      ]
    },
    {
      "cell_type": "code",
      "metadata": {
        "id": "0WUErwg19cAU",
        "colab_type": "code",
        "colab": {}
      },
      "source": [
        "from scipy.sparse import csr_matrix\n",
        "\n",
        "# pivot ratings into movie features\n",
        "df_mf = ratings.pivot(\n",
        "    index='user_id',\n",
        "    columns='movie_id',\n",
        "    values='rating'\n",
        ").fillna(0)\n",
        "\n",
        "df_mf.shape\n",
        "\n",
        "# convert dataframe of movie features to scipy sparse matrix\n",
        "#df_mf = csr_matrix(df_movie_features.values)\n",
        "#df_mf"
      ],
      "execution_count": 0,
      "outputs": []
    },
    {
      "cell_type": "code",
      "metadata": {
        "id": "k_bcKTV-9b6o",
        "colab_type": "code",
        "colab": {}
      },
      "source": [
        "df_mf.head()"
      ],
      "execution_count": 0,
      "outputs": []
    },
    {
      "cell_type": "markdown",
      "metadata": {
        "id": "FzAPSIzc98lE",
        "colab_type": "text"
      },
      "source": [
        "### Realizar alguma recomendação buscando os vizinhos\n",
        "\n",
        "![alt text](https://miro.medium.com/max/319/0*e3_p3-HIh8DCin4m)"
      ]
    },
    {
      "cell_type": "code",
      "metadata": {
        "id": "5RatC5Pd98It",
        "colab_type": "code",
        "colab": {}
      },
      "source": [
        "# https://scikit-learn.org/stable/modules/generated/sklearn.neighbors.NearestNeighbors.html\n",
        "from sklearn.neighbors import NearestNeighbors\n",
        "\n",
        "\n",
        "model_knn = NearestNeighbors(metric='cosine', \n",
        "                             algorithm='brute', \n",
        "                             n_neighbors=10, n_jobs=-1)\n",
        "\n",
        "model_knn.fit(df_mf)"
      ],
      "execution_count": 0,
      "outputs": []
    },
    {
      "cell_type": "markdown",
      "metadata": {
        "id": "nQ3_rpu4gK-w",
        "colab_type": "text"
      },
      "source": [
        "![alt text](https://image.slidesharecdn.com/annpresentation-150925020250-lva1-app6891/95/approximate-nearest-neighbor-methods-and-vector-models-nyc-ml-meetup-6-638.jpg?cb=1445710532)"
      ]
    },
    {
      "cell_type": "markdown",
      "metadata": {
        "id": "sAKLAWFplNzw",
        "colab_type": "text"
      },
      "source": [
        "#### Busca os vizinhos mais próximos do usuário "
      ]
    },
    {
      "cell_type": "code",
      "metadata": {
        "id": "AzWyURnc98DJ",
        "colab_type": "code",
        "colab": {}
      },
      "source": [
        "# Busca os vizinhos mais próximos do usuário \n",
        "#\n",
        "distances, indices = model_knn.kneighbors([df_mf.loc[10]], n_neighbors=10)\n",
        "\n",
        "distances, indices"
      ],
      "execution_count": 0,
      "outputs": []
    },
    {
      "cell_type": "markdown",
      "metadata": {
        "id": "GfwbiwTolP-9",
        "colab_type": "text"
      },
      "source": [
        "#### Lista os usuários mais próximos"
      ]
    },
    {
      "cell_type": "code",
      "metadata": {
        "id": "qqIRDKl598AZ",
        "colab_type": "code",
        "colab": {}
      },
      "source": [
        "# Lista os usuários mais próximos\n",
        "user_neighbors = df_mf.iloc[indices[0]]\n",
        "user_neighbors"
      ],
      "execution_count": 0,
      "outputs": []
    },
    {
      "cell_type": "markdown",
      "metadata": {
        "id": "FkBAHnmYlYvj",
        "colab_type": "text"
      },
      "source": [
        "#### Usa as pessoas similares para ponderar as notas dos filmes e seleciona K filmes para recomendar"
      ]
    },
    {
      "cell_type": "code",
      "metadata": {
        "id": "tIJDIyNY978y",
        "colab_type": "code",
        "colab": {}
      },
      "source": [
        "# Usa as pessoas similares para ponderar as notas dos filmes e seleciona K filmes para recomendar\n",
        "#\n",
        "# Pode ser usada a média, mediana, máximo.. edt\n",
        "#\n",
        "#\n",
        "\n",
        "rec_movies = user_neighbors.mean().sort_values(ascending=False)[:10]\n",
        "rec_movies"
      ],
      "execution_count": 0,
      "outputs": []
    },
    {
      "cell_type": "markdown",
      "metadata": {
        "id": "yTRQUfCLlaPi",
        "colab_type": "text"
      },
      "source": [
        "#### Recomendação dos K melhores filmes para o usuário "
      ]
    },
    {
      "cell_type": "code",
      "metadata": {
        "id": "r5wpoELOBfVz",
        "colab_type": "code",
        "colab": {}
      },
      "source": [
        "# Recomendação dos K melhores filmes para o usuário \n",
        "#\n",
        "movies[movies.movie_id.isin(rec_movies.index)]"
      ],
      "execution_count": 0,
      "outputs": []
    },
    {
      "cell_type": "markdown",
      "metadata": {
        "id": "iSMZhDjkjHgy",
        "colab_type": "text"
      },
      "source": [
        "### Função de Recomendação para o Usuário"
      ]
    },
    {
      "cell_type": "code",
      "metadata": {
        "id": "HSfpuRLmBfTP",
        "colab_type": "code",
        "colab": {}
      },
      "source": [
        "# Recomendação de filmes para um usuário específico com base no colaborativo\n",
        "#\n",
        "# user_id:   ID do usuário\n",
        "# top:       Total de recomendações\n",
        "# neighbors: Total de vizinhos analisados\n",
        "# func: Aggregação dos vizinhos\n",
        "\n",
        "def recommender_by_user_id(user_id, top=10, neighbors=10, func=np.mean):\n",
        "  \n",
        "  # Busca os vizinhos mais próximos do usuário \n",
        "  #\n",
        "  distances, indices = model_knn.kneighbors([df_mf.loc[user_id]], n_neighbors=10)\n",
        "\n",
        "  # Lista os usuários mais próximos\n",
        "  user_neighbors = df_mf.iloc[indices[0]]\n",
        "\n",
        "  # Usa as pessoas similares para ponderar as notas dos filmes e seleciona K filmes para recomendar\n",
        "  rec_movies = user_neighbors.agg(func).sort_values(ascending=False)[:top]\n",
        "\n",
        "  # Recomendação dos K melhores filmes para o usuário \n",
        "  #\n",
        "  return movies[movies.movie_id.isin(rec_movies.index)]"
      ],
      "execution_count": 0,
      "outputs": []
    },
    {
      "cell_type": "code",
      "metadata": {
        "id": "6ans8pc3BfQe",
        "colab_type": "code",
        "colab": {}
      },
      "source": [
        "# O Usuário 10 Tem um gosto variado entre Action, Sci-Fi e Drama\n",
        "user_id = 10\n",
        "\n",
        "recommender_by_user_id(user_id)"
      ],
      "execution_count": 0,
      "outputs": []
    },
    {
      "cell_type": "code",
      "metadata": {
        "id": "fWmnDk4XBfNx",
        "colab_type": "code",
        "colab": {}
      },
      "source": [
        "#pd.merge(ratings[ratings.user_id == user_id], movies)"
      ],
      "execution_count": 0,
      "outputs": []
    },
    {
      "cell_type": "code",
      "metadata": {
        "id": "Y7nBFRGuBfJy",
        "colab_type": "code",
        "colab": {}
      },
      "source": [
        "# O Usuário 110 Tem um gosto bem específico para a categoria Crime, Drama, \n",
        "user_id = 110\n",
        "\n",
        "recommender_by_user_id(user_id)"
      ],
      "execution_count": 0,
      "outputs": []
    },
    {
      "cell_type": "markdown",
      "metadata": {
        "id": "LFGE5JtOkYvL",
        "colab_type": "text"
      },
      "source": [
        "### Conclusão \n",
        "\n",
        "Como você pode observar, a recomendação por filtragem colaborativa gera recomendações bem variadas e é uma alteranativa muito melhor quando é possível ter acesso ao histórico de interações.\n",
        "\n",
        "* O principal pós é justamente não precisar utilizar informações de conteúdo para fazer as recomendações, utilizando apenas as interações.\n",
        "\n",
        "* O contra é a necessidade de ter muitos dados de histórico para que a filtragem seja de fato efetiva. \n"
      ]
    },
    {
      "cell_type": "markdown",
      "metadata": {
        "id": "WwCBrVTonQxA",
        "colab_type": "text"
      },
      "source": [
        "## Engine RecSys\n",
        "\n",
        "Agora, com os modelos de Content-Based e Colaborative Filtering tentem fazer uma função que dado o usuário ele retorne 5 recomendações baseadas em conteúdo e 5 recomendações de filtragem colaborativa:"
      ]
    },
    {
      "cell_type": "code",
      "metadata": {
        "id": "t6UHbZT4oc_o",
        "colab_type": "code",
        "colab": {}
      },
      "source": [
        ""
      ],
      "execution_count": 0,
      "outputs": []
    },
    {
      "cell_type": "code",
      "metadata": {
        "id": "HOoyNl-TnrKh",
        "colab_type": "code",
        "colab": {}
      },
      "source": [
        "# Recomendação completa usando a filtragem colaborativa e o content based.\n",
        "# \n",
        "# Return DataFrame\n",
        "def geral_recommender(user_id):\n",
        "  pass"
      ],
      "execution_count": 0,
      "outputs": []
    },
    {
      "cell_type": "code",
      "metadata": {
        "id": "BndM-ZABohUI",
        "colab_type": "code",
        "colab": {}
      },
      "source": [
        ""
      ],
      "execution_count": 0,
      "outputs": []
    },
    {
      "cell_type": "code",
      "metadata": {
        "id": "S12SQpo3ohM-",
        "colab_type": "code",
        "colab": {}
      },
      "source": [
        ""
      ],
      "execution_count": 0,
      "outputs": []
    },
    {
      "cell_type": "code",
      "metadata": {
        "id": "JVPYbwofohHL",
        "colab_type": "code",
        "colab": {}
      },
      "source": [
        ""
      ],
      "execution_count": 0,
      "outputs": []
    },
    {
      "cell_type": "code",
      "metadata": {
        "id": "jUMNJXdpohAE",
        "colab_type": "code",
        "colab": {}
      },
      "source": [
        ""
      ],
      "execution_count": 0,
      "outputs": []
    },
    {
      "cell_type": "code",
      "metadata": {
        "id": "o8nY9Psjog3g",
        "colab_type": "code",
        "colab": {}
      },
      "source": [
        ""
      ],
      "execution_count": 0,
      "outputs": []
    },
    {
      "cell_type": "markdown",
      "metadata": {
        "id": "eye1OdPloiDe",
        "colab_type": "text"
      },
      "source": [
        "\n",
        "\n",
        "---\n",
        "\n"
      ]
    },
    {
      "cell_type": "markdown",
      "metadata": {
        "id": "zFML-ERZodmF",
        "colab_type": "text"
      },
      "source": [
        "![slide1](https://storage.googleapis.com/ms_geral/workshop_recomendacao_campus/CampusParty%20-%20Sistemas%20de%20Recomenda%C3%A7%C3%A3o%20-%20Workshop-26.jpg?a=1)"
      ]
    },
    {
      "cell_type": "markdown",
      "metadata": {
        "id": "cV8pV-ev99D0",
        "colab_type": "text"
      },
      "source": [
        "## Outras alternativas \n",
        "\n",
        "Existem diversas alterantivas para recomendaçõo de conteúdo. Segue algumas:\n",
        "\n",
        "* **Matriz de fatoração (MF)**: A idéia por trás de tais modelos é que as atitudes ou preferências de um usuário possam ser determinadas por um pequeno número de fatores latentes ocultos. Esses fatores também são chamados de **Embeddings**, que representam características diferentes para usuários e itens. A fatoração matricial pode ser feita por vários métodos, incluindo decomposição de Vecot de suporte (SVD), fatoração matricial probabilística (PMF) e fatoração matricial não negativa (NMF).\n",
        "\n",
        "\n",
        "\n",
        "***Algoritmo baseado em cluster (KNN)***: A idéia de cluster é a mesma dos sistemas de recomendação baseados em memória. Em algoritmos baseados em memória, usamos as semelhanças entre usuários e / ou itens e as usamos como pesos para prever uma classificação para um usuário e um item. A diferença é que as semelhanças nessa abordagem são calculadas com base em um modelo de aprendizado não supervisionado, em vez da correlação de Pearson ou semelhança de cosseno.\n",
        "\n",
        "\n",
        "***Redes Neurais/Aprendizado Profundo***: A idéia de usar Redes Neurais é semelhante à da Fatoração de Matrizes Baseada em Modelos. Na fatoração da matriz, decompomos nossa matriz esparsa original em produto de 2 matrizes ortogonais de baixo escalão. Para a implementação da rede neural, não precisamos que eles sejam ortogonais, queremos que nosso modelo aprenda os valores da própria matriz de incorporação. Os recursos latentes do usuário e os recursos latentes do filme são consultados nas matrizes de incorporação para uma combinação específica de filme e usuário. Estes são os valores de entrada para outras camadas lineares e não lineares. Podemos passar essa entrada para várias camadas relu, lineares ou sigmóides e aprender os pesos correspondentes por qualquer algoritmo de otimização (Adam, SGD, etc.).\n",
        "\n",
        "\n",
        "![memory-model-cf](https://github.com/khanhnamle1994/movielens/raw/cb1fe40c99cdd61c3c714e501e11f699c87b0eed/images/memory-model-cf.jpg)"
      ]
    },
    {
      "cell_type": "markdown",
      "metadata": {
        "id": "iPHFpwGn99D3",
        "colab_type": "text"
      },
      "source": [
        "## Referências\n",
        "\n",
        "* https://github.com/khanhnamle1994/movielens/\n",
        "* https://medium.com/data-hackers/deep-learning-para-sistemas-de-recomendação-parte-1-introdução-b19a896c471e\n"
      ]
    }
  ]
}